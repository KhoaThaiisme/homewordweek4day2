{
 "cells": [
  {
   "cell_type": "markdown",
   "metadata": {},
   "source": [
    "# Algorithms, Binary Search & Linked Lists"
   ]
  },
  {
   "cell_type": "markdown",
   "metadata": {},
   "source": [
    "## Tasks Today:\n",
    " \n",
    "1) <b>In-Place Algorithms</b> <br>\n",
    " &nbsp;&nbsp;&nbsp;&nbsp; a) Syntax <br>\n",
    " &nbsp;&nbsp;&nbsp;&nbsp; a) Out of Place Algorithm <br>\n",
    " &nbsp;&nbsp;&nbsp;&nbsp; b) In-Class Exercise #1 <br>\n",
    "2) <b>Two Pointers</b> <br>\n",
    "3) <b>Linked Lists</b> <br>\n",
    "4) <b>Merge Sort</b> <br>\n",
    " &nbsp;&nbsp;&nbsp;&nbsp; a) Video on Algorithms <br>\n",
    " &nbsp;&nbsp;&nbsp;&nbsp; b) How it Works <br>\n",
    "5) <b>Exercises</b> <br>\n",
    " &nbsp;&nbsp;&nbsp;&nbsp; a) Exercise #1 - Reverse a List in Place Using an In-Place Algorithm <br>\n",
    " &nbsp;&nbsp;&nbsp;&nbsp; b) Exercise #2 - Find Distinct Words <br>\n",
    " &nbsp;&nbsp;&nbsp;&nbsp; c) Exercise #3 - Write a program to implement a Linear Search Algorithm. <br>"
   ]
  },
  {
   "cell_type": "markdown",
   "metadata": {},
   "source": [
    "## In-Place Algorithms"
   ]
  },
  {
   "cell_type": "markdown",
   "metadata": {},
   "source": [
    "#### Syntax"
   ]
  },
  {
   "cell_type": "code",
   "execution_count": 2,
   "metadata": {},
   "outputs": [],
   "source": [
    "# in-place mutates our input, such as .sort()\n",
    "\n",
    "random_list = [9,2,10,1,100,4]\n",
    "\n",
    "random_list.sort()\n",
    "\n",
    "# print(random_list)\n",
    "\n"
   ]
  },
  {
   "cell_type": "markdown",
   "metadata": {},
   "source": []
  },
  {
   "cell_type": "code",
   "execution_count": 3,
   "metadata": {},
   "outputs": [
    {
     "name": "stdout",
     "output_type": "stream",
     "text": [
      "[1, 3, 5, 100]\n",
      "[100, 1, 5, 3]\n"
     ]
    }
   ],
   "source": [
    "random_list_2 = [100,1,5,3]\n",
    "# out of place sorted()\n",
    "sorted_list_2 = sorted(random_list_2)\n",
    "print(sorted_list_2)\n",
    "print(random_list_2)\n"
   ]
  },
  {
   "cell_type": "code",
   "execution_count": 5,
   "metadata": {},
   "outputs": [
    {
     "name": "stdout",
     "output_type": "stream",
     "text": [
      "[9, 1, 10, 2]\n"
     ]
    }
   ],
   "source": [
    "def swap_indecies(alist, index1, index2):\n",
    "    # retaining our value before overwriting\n",
    "    index1_value = alist[index1]\n",
    "    alist[index1] = alist[index2]\n",
    "    alist[index2] = index1_value\n",
    "    \n",
    "num_list = [9,10,1,2]\n",
    "swap_indecies(num_list, 1, 2)\n",
    "\n",
    "print(num_list)"
   ]
  },
  {
   "cell_type": "code",
   "execution_count": 6,
   "metadata": {},
   "outputs": [
    {
     "name": "stdout",
     "output_type": "stream",
     "text": [
      "[3, 5, 10, 2]\n"
     ]
    }
   ],
   "source": [
    "def swap_indexes(alist, index1, index2):\n",
    "    alist[index1], alist[index2] = alist[index2], alist[index1]\n",
    "    return alist\n",
    "\n",
    "new_list = swap_indexes([2,5,10,3], 0, -1)\n",
    "print(new_list)"
   ]
  },
  {
   "cell_type": "code",
   "execution_count": null,
   "metadata": {},
   "outputs": [],
   "source": [
    "def capitalize_string(string):\n",
    "    string = string.split()\n",
    "    string = ' '.join(word.title() for word in string)\n",
    "    \n",
    "string = 'matrix rocks'\n",
    "capitalize_string(string)\n",
    "print(string)"
   ]
  },
  {
   "cell_type": "markdown",
   "metadata": {},
   "source": [
    "# Out of Place Algorithm"
   ]
  },
  {
   "cell_type": "code",
   "execution_count": 9,
   "metadata": {},
   "outputs": [
    {
     "name": "stdout",
     "output_type": "stream",
     "text": [
      "[1, 2, 10, 4, 5, 3]\n"
     ]
    }
   ],
   "source": [
    "def swap_out_of_place(alist, index1, index2):\n",
    "    alist_copy = alist[:] # make a copy alist list but not change original value of it\n",
    "    alist_copy[index1], alist_copy[index2] = alist_copy[index2], alist_copy[index1]\n",
    "    return alist_copy\n",
    "\n",
    "swapped_list = swap_out_of_place([1,2,3,4,5,10], 2,-1)\n",
    "\n",
    "print(swapped_list)\n",
    "\n",
    "print([1,2,3,4,5,6][])"
   ]
  },
  {
   "cell_type": "markdown",
   "metadata": {},
   "source": [
    "#### In-Class Exercise #1 <br>\n",
    "<p>Write a function that takes in four arguments (list, index1, index2, index3), and swaps those three positions in the list passed in.</p>"
   ]
  },
  {
   "cell_type": "code",
   "execution_count": 12,
   "metadata": {},
   "outputs": [
    {
     "name": "stdout",
     "output_type": "stream",
     "text": [
      "[10, 4, 6, 8, 4, 3, 2]\n"
     ]
    }
   ],
   "source": [
    "l_1 = [10, 4, 3, 8, 4, 2, 6]\n",
    "\n",
    "def swap_3_indecies(alist, index1, index2, index30):\n",
    "    alist[index1], alist[index2], alist[index3] = alist[index3], alist[index1], alist[index2]\n",
    "    return alist\n",
    "\n",
    "new_list = swap_3_indecies(l_1, 2,5,6)\n",
    "print(new_list)\n"
   ]
  },
  {
   "cell_type": "markdown",
   "metadata": {},
   "source": [
    "## Two Pointers"
   ]
  },
  {
   "cell_type": "markdown",
   "metadata": {},
   "source": [
    "#### Syntax"
   ]
  },
  {
   "cell_type": "code",
   "execution_count": 13,
   "metadata": {},
   "outputs": [
    {
     "name": "stdout",
     "output_type": "stream",
     "text": [
      "[9, 8, 7, 6, 5, 4, 3, 2, 1]\n"
     ]
    }
   ],
   "source": [
    "def reverse_list(alist):\n",
    "    left, right = 0, len(alist) - 1\n",
    "    while left < right:\n",
    "        alist[left], alist[right] = alist[right], alist[left]\n",
    "        left += 1\n",
    "        right -= 1\n",
    "        \n",
    "alist = [1,2,3,4,5,6,7,8,9]\n",
    "\n",
    "reverse_list(alist)\n",
    "\n",
    "print(alist)"
   ]
  },
  {
   "cell_type": "code",
   "execution_count": 15,
   "metadata": {},
   "outputs": [
    {
     "name": "stdout",
     "output_type": "stream",
     "text": [
      "True\n",
      "False\n"
     ]
    }
   ],
   "source": [
    "'racecar'\n",
    "def palindrome_check(astring):\n",
    "    left, right = 0, len(astring) - 1\n",
    "    while left < right:\n",
    "        left_letter= astring[left]\n",
    "        right_letter = astring[right]\n",
    "        if left_letter != right_letter:\n",
    "            return False\n",
    "        left += 1\n",
    "        right -= 1\n",
    "    return True\n",
    "\n",
    "print(palindrome_check('racecar'))\n",
    "print(palindrome_check('matrix'))\n",
    "    \n",
    "        \n",
    "    "
   ]
  },
  {
   "cell_type": "markdown",
   "metadata": {},
   "source": [
    "#### Video of Algorithms <br>\n",
    "<p>Watch the video about algorithms.</p>\n",
    "\n",
    "https://www.youtube.com/watch?v=Q9HjeFD62Uk\n",
    "\n",
    "https://www.youtube.com/watch?v=kPRA0W1kECg\n",
    "\n",
    "https://www.youtube.com/watch?v=ZZuD6iUe3Pc"
   ]
  },
  {
   "cell_type": "markdown",
   "metadata": {},
   "source": [
    "# Sorting Algorithms"
   ]
  },
  {
   "cell_type": "markdown",
   "metadata": {},
   "source": [
    "#### Bubble Sort\n",
    "\n",
    "Worst Case: O(n^2) Time - O(1) Space"
   ]
  },
  {
   "cell_type": "code",
   "execution_count": 22,
   "metadata": {},
   "outputs": [
    {
     "name": "stdout",
     "output_type": "stream",
     "text": [
      "[1, 3, 4, 8, 9, 10, 12]\n",
      "True\n"
     ]
    }
   ],
   "source": [
    "num_list = [10, 8, 1, 4, 9, 3, 12]\n",
    "\n",
    "def bubble_sort(alist):\n",
    "    is_sorted = False\n",
    "    while not is_sorted:\n",
    "        is_sorted = True\n",
    "        for i in range(len(alist) - 1):\n",
    "            if alist[i] > alist[i+1]:\n",
    "                alist[i], alist[i+1] = alist[i+1], alist[i]\n",
    "                is_sorted = False\n",
    "                       \n",
    "bubble_sort(num_list)\n",
    "\n",
    "print(num_list)\n",
    "print(not False)"
   ]
  },
  {
   "cell_type": "markdown",
   "metadata": {},
   "source": [
    "##### Insertion Sort\n",
    "\n",
    "Worst Case: O(n^2) time - O(1)space"
   ]
  },
  {
   "cell_type": "code",
   "execution_count": 23,
   "metadata": {},
   "outputs": [
    {
     "name": "stdout",
     "output_type": "stream",
     "text": [
      "[1, 5, 9, 9, 10, 10, 111]\n"
     ]
    }
   ],
   "source": [
    "num_list = [10, 1, 9, 111, 5, 9, 10]\n",
    "\n",
    "def insertion_sort(alist):\n",
    "    for i in range(1, len(alist)):\n",
    "        current_value = alist[i]\n",
    "        j = i - 1\n",
    "        while current_value < alist[j] and j >= 0:\n",
    "            alist[j+1] = alist[j]\n",
    "            j -= 1\n",
    "        alist[j+1] = current_value\n",
    "        \n",
    "insertion_sort(num_list)\n",
    "print(num_list)"
   ]
  },
  {
   "cell_type": "code",
   "execution_count": null,
   "metadata": {},
   "outputs": [],
   "source": [
    "def create_insertion_sort_clone(alist2)"
   ]
  },
  {
   "cell_type": "markdown",
   "metadata": {},
   "source": [
    "## Merge Sort"
   ]
  },
  {
   "cell_type": "markdown",
   "metadata": {},
   "source": [
    "#### How it Works"
   ]
  },
  {
   "cell_type": "code",
   "execution_count": 27,
   "metadata": {},
   "outputs": [
    {
     "name": "stdout",
     "output_type": "stream",
     "text": [
      "[1, 1, 2, 4, 5, 9, 10, 10, 11, 39, 100]\n"
     ]
    }
   ],
   "source": [
    "input_list = [10,1,5,9,100,1,4,39,10,11,2]\n",
    "\n",
    "def merge_sort(alist):\n",
    "    middle = len(alist) // 2\n",
    "    left_half = alist[:middle]\n",
    "    right_half = alist[middle:]\n",
    "    \n",
    "    # recursively call merge until groups of 1\n",
    "    if len(alist) > 1:\n",
    "        merge_sort(left_half)\n",
    "        merge_sort(right_half)\n",
    "    \n",
    "    \n",
    "    # compare the elements from left half and right half plugging into list sorted\n",
    "    left_point = right_point = main_point = 0\n",
    "#     left_point, right_point, main_point = 0,0,0\n",
    "#     left_point = 0\n",
    "#     right_point = 0\n",
    "#     main_point = 0\n",
    "    while left_point < len(left_half) and right_point < len(right_half):\n",
    "        if left_half[left_point] < right_half[right_point]:\n",
    "            alist[main_point] = left_half[left_point]\n",
    "            left_point += 1\n",
    "#             main_point += 1\n",
    "        \n",
    "        else:\n",
    "            alist[main_point] = right_half[right_point]\n",
    "            right_point += 1\n",
    "#             main_point += 1\n",
    "        \n",
    "        main_point += 1\n",
    "    \n",
    "    # add any remaining elements from each list\n",
    "    \n",
    "    while left_point < len(left_half):\n",
    "        alist[main_point] = left_half[left_point]\n",
    "        left_point += 1\n",
    "        main_point += 1\n",
    "        \n",
    "    while right_point < len(right_half):\n",
    "        alist[main_point] = right_half[right_point]\n",
    "        right_point += 1\n",
    "        main_point += 1\n",
    "        \n",
    "merge_sort(input_list)\n",
    "\n",
    "print(input_list)"
   ]
  },
  {
   "cell_type": "markdown",
   "metadata": {},
   "source": [
    "# Binary Search\n",
    "\n",
    "The Binary Search algorithm works by finding the number in the middle of a given array and comparing it to the target. Given that the array is sorted\n",
    "\n",
    "* The worst case run time for this algorithm is `O(log(n))`"
   ]
  },
  {
   "cell_type": "code",
   "execution_count": null,
   "metadata": {},
   "outputs": [],
   "source": []
  },
  {
   "cell_type": "markdown",
   "metadata": {},
   "source": [
    "# Exercises"
   ]
  },
  {
   "cell_type": "markdown",
   "metadata": {},
   "source": [
    "### Exercise #1 <br>\n",
    "<p>Reverse the list below in-place using an in-place algorithm.<br>For extra credit: Reverse the strings at the same time.</p>"
   ]
  },
  {
   "cell_type": "code",
   "execution_count": 62,
   "metadata": {},
   "outputs": [
    {
     "name": "stdout",
     "output_type": "stream",
     "text": [
      "['.', 'ecnetnes', 'a', 'si', 'siht']\n"
     ]
    }
   ],
   "source": [
    "words = ['this' , 'is', 'a', 'sentence', '.']\n",
    "\n",
    "def reverse_a_string(string):\n",
    "    string = string[::-1]\n",
    "    reverse = []\n",
    "    for word in string:\n",
    "        word = word[::-1]\n",
    "        reverse.append(word)\n",
    "\n",
    "    return reverse\n",
    "\n",
    "new_words = reverse_a_string(words)\n",
    "print(new_words)"
   ]
  },
  {
   "cell_type": "markdown",
   "metadata": {},
   "source": [
    "### Exercise #2 <br>\n",
    "<p>Create a function that counts how many distinct words are in the string below, then outputs a dictionary with the words as the key and the value as the amount of times that word appears in the string.<br>Should output:<br>{'a': 5,<br>\n",
    " 'abstract': 1,<br>\n",
    " 'an': 3,<br>\n",
    " 'array': 2, ... etc...</p>"
   ]
  },
  {
   "cell_type": "code",
   "execution_count": 71,
   "metadata": {},
   "outputs": [
    {
     "name": "stdout",
     "output_type": "stream",
     "text": [
      "{'a': 5, 'abstract': 1, 'an': 3, 'array': 2, 'associative': 1, 'be': 1, 'buckets': 1, 'can': 2, 'compute': 1, 'computing,': 1, 'data': 2, 'desired': 1, 'found': 1, 'from': 1, 'function': 1, 'hash': 4, 'implements': 1, 'in': 1, 'index': 1, 'into': 1, 'is': 1, 'keys': 1, 'map': 2, 'of': 1, 'or': 1, 'slots': 1, 'structure': 2, 'table': 2, 'that': 1, 'the': 1, 'to': 2, 'type,': 1, 'uses': 1, 'value': 1, 'values.': 1, 'which': 2}\n"
     ]
    }
   ],
   "source": [
    "a_text = 'In computing, a hash table hash map is a data structure which implements an associative array abstract data type, a structure that can map keys to values. A hash table uses a hash function to compute an index into an array of buckets or slots from which the desired value can be found'\n",
    "\n",
    "def hash_name(string):\n",
    "    dict = {}\n",
    "    string = sorted(string.lower().split())\n",
    "    for word in string:\n",
    "        \n",
    "        dict[word] = dict.get(word, 0) + 1\n",
    "    return dict\n",
    "\n",
    "new_hash = hash_name(a_text)\n",
    "print(new_hash)"
   ]
  },
  {
   "cell_type": "markdown",
   "metadata": {},
   "source": [
    "## Exercise #3\n",
    "\n",
    "Write a program to implement a Linear Search Algorithm. Also in a comment, write the Time Complexity of the following algorithm.\n",
    "\n",
    "#### Hint: Linear Searching will require searching a list for a given number. "
   ]
  },
  {
   "cell_type": "code",
   "execution_count": 81,
   "metadata": {},
   "outputs": [
    {
     "name": "stdout",
     "output_type": "stream",
     "text": [
      "28 was found at position 1 of the array\n",
      "28\n"
     ]
    }
   ],
   "source": [
    "num_array = [30, 28,49,30,54,93,10]\n",
    "\n",
    "def linear_search(arr, x):\n",
    "    steps = 0\n",
    "    for num in arr:\n",
    "        if num == x:\n",
    "            steps+=1\n",
    "            print(f'{num} was found at position {steps} of the array')    \n",
    "            return num\n",
    "            \n",
    "    return -1\n",
    "\n",
    "new_arr = linear_search(num_array, 28)\n",
    "print(new_arr)\n",
    "\n",
    "# for time complexity:\n",
    "# in best case: when it return to the very first position of the array, it will be O(1)\n",
    "# in worst case: when it return the target at the last position which depends on the length of the array, it will be O(N)\n",
    "# time complexity this function is O(N)"
   ]
  },
  {
   "cell_type": "code",
   "execution_count": null,
   "metadata": {},
   "outputs": [],
   "source": []
  }
 ],
 "metadata": {
  "kernelspec": {
   "display_name": "Python 3 (ipykernel)",
   "language": "python",
   "name": "python3"
  },
  "language_info": {
   "codemirror_mode": {
    "name": "ipython",
    "version": 3
   },
   "file_extension": ".py",
   "mimetype": "text/x-python",
   "name": "python",
   "nbconvert_exporter": "python",
   "pygments_lexer": "ipython3",
   "version": "3.10.9"
  }
 },
 "nbformat": 4,
 "nbformat_minor": 2
}
